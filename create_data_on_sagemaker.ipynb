{
 "cells": [
  {
   "cell_type": "markdown",
   "metadata": {},
   "source": [
    "# Setup\n",
    "\n",
    "Please copy "
   ]
  },
  {
   "cell_type": "code",
   "execution_count": 1,
   "metadata": {},
   "outputs": [
    {
     "name": "stdout",
     "output_type": "stream",
     "text": [
      "arn:aws:iam::398271760466:role/service-role/AmazonSageMaker-ExecutionRole-20181228T165705\n"
     ]
    }
   ],
   "source": [
    "# Setup\n",
    "from sagemaker import get_execution_role\n",
    "import sagemaker\n",
    "\n",
    "sagemaker_session = sagemaker.Session()\n",
    "\n",
    "# This role retrieves the SageMaker-compatible role used by this Notebook Instance.\n",
    "role = get_execution_role()\n",
    "print(role)"
   ]
  },
  {
   "cell_type": "markdown",
   "metadata": {},
   "source": [
    "# Download"
   ]
  },
  {
   "cell_type": "code",
   "execution_count": 2,
   "metadata": {},
   "outputs": [],
   "source": [
    "import chainer\n",
    "\n",
    "from chainer.datasets import get_cifar10\n",
    "\n",
    "train, test = get_cifar10()"
   ]
  },
  {
   "cell_type": "markdown",
   "metadata": {},
   "source": [
    "# Upload the data with small data"
   ]
  },
  {
   "cell_type": "code",
   "execution_count": 3,
   "metadata": {},
   "outputs": [
    {
     "name": "stdout",
     "output_type": "stream",
     "text": [
      "('training data at %s', 's3://sagemaker-ap-northeast-1-398271760466/notebook/chainer_cifar/train')\n",
      "('test data at %s', 's3://sagemaker-ap-northeast-1-398271760466/notebook/chainer_cifar/test')\n"
     ]
    }
   ],
   "source": [
    "import os\n",
    "import shutil\n",
    "\n",
    "import numpy as np\n",
    "\n",
    "train_data = [element[0] for element in train]\n",
    "train_labels = [element[1] for element in train]\n",
    "\n",
    "test_data = [element[0] for element in test]\n",
    "test_labels = [element[1] for element in test]\n",
    "\n",
    "\n",
    "try:\n",
    "    os.makedirs('/tmp/data/train_cifar')\n",
    "    os.makedirs('/tmp/data/test_cifar')\n",
    "    np.savez('/tmp/data/train_cifar/train.npz', data=train_data, labels=train_labels)\n",
    "    np.savez('/tmp/data/test_cifar/test.npz', data=test_data, labels=test_labels)\n",
    "    \n",
    "    np.savez('/tmp/data/train_cifar/train_m.npz', data=train_data[0:10], labels=train_labels[0:10])\n",
    "    np.savez('/tmp/data/test_cifar/test_m.npz', data=test_data[0:5], labels=test_labels[0:5])\n",
    "    \n",
    "    train_input = sagemaker_session.upload_data(\n",
    "                      path=os.path.join('/tmp', 'data', 'train_cifar'),\n",
    "                      key_prefix='notebook/chainer_cifar/train')\n",
    "    test_input = sagemaker_session.upload_data(\n",
    "                      path=os.path.join('/tmp', 'data', 'test_cifar'),\n",
    "                      key_prefix='notebook/chainer_cifar/test')\n",
    "finally:\n",
    "    shutil.rmtree('/tmp/data')\n",
    "print('training data at %s', train_input)\n",
    "print('test data at %s', test_input)"
   ]
  },
  {
   "cell_type": "code",
   "execution_count": null,
   "metadata": {},
   "outputs": [],
   "source": []
  }
 ],
 "metadata": {
  "kernelspec": {
   "display_name": "conda_chainer_p27",
   "language": "python",
   "name": "conda_chainer_p27"
  },
  "language_info": {
   "codemirror_mode": {
    "name": "ipython",
    "version": 2
   },
   "file_extension": ".py",
   "mimetype": "text/x-python",
   "name": "python",
   "nbconvert_exporter": "python",
   "pygments_lexer": "ipython2",
   "version": "2.7.15"
  }
 },
 "nbformat": 4,
 "nbformat_minor": 4
}
